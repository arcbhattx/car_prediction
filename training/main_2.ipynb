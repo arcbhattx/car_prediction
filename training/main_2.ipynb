{
 "cells": [
  {
   "cell_type": "code",
   "execution_count": 5,
   "id": "5024f30f",
   "metadata": {},
   "outputs": [
    {
     "name": "stdout",
     "output_type": "stream",
     "text": [
      "                          frame  xmin  xmax  ymin  ymax  class_id\n",
      "0       1478019952686311006.jpg   237   251   143   155         1\n",
      "1       1478019952686311006.jpg   437   454   120   186         3\n",
      "2       1478019953180167674.jpg   218   231   146   158         1\n",
      "3       1478019953689774621.jpg   171   182   141   154         2\n",
      "4       1478019953689774621.jpg   179   191   144   155         1\n",
      "...                         ...   ...   ...   ...   ...       ...\n",
      "132401  1479506176491553178.jpg   166   186   139   156         1\n",
      "132402  1479506176491553178.jpg   182   204   142   153         1\n",
      "132403  1479506176491553178.jpg   239   261   139   155         1\n",
      "132404  1479506176491553178.jpg   259   280   139   157         1\n",
      "132405  1479506176491553178.jpg   284   324   137   168         1\n",
      "\n",
      "[132406 rows x 6 columns]\n"
     ]
    }
   ],
   "source": [
    "import tensorflow as tf\n",
    "import pandas as pd\n",
    "\n",
    "dataset_directory = '../archive/labels_train.csv'\n",
    "df = pd.read_csv(dataset_directory)\n",
    "\n",
    "print(df)\n",
    "\n"
   ]
  },
  {
   "cell_type": "code",
   "execution_count": 10,
   "id": "0ca998c7",
   "metadata": {},
   "outputs": [
    {
     "name": "stdout",
     "output_type": "stream",
     "text": [
      "0         1\n",
      "1         3\n",
      "2         1\n",
      "3         2\n",
      "4         1\n",
      "         ..\n",
      "132401    1\n",
      "132402    1\n",
      "132403    1\n",
      "132404    1\n",
      "132405    1\n",
      "Name: class_id, Length: 132406, dtype: int64\n"
     ]
    }
   ],
   "source": [
    "features = df.drop(columns=['class_id'])\n",
    "label = df['class_id']\n",
    "\n",
    "#print(features)\n",
    "print(label)"
   ]
  },
  {
   "cell_type": "code",
   "execution_count": null,
   "id": "6b5888e1",
   "metadata": {},
   "outputs": [],
   "source": [
    "#loading the dataset csv with tf\n",
    "\n"
   ]
  }
 ],
 "metadata": {
  "kernelspec": {
   "display_name": ".venv (3.12.5)",
   "language": "python",
   "name": "python3"
  },
  "language_info": {
   "codemirror_mode": {
    "name": "ipython",
    "version": 3
   },
   "file_extension": ".py",
   "mimetype": "text/x-python",
   "name": "python",
   "nbconvert_exporter": "python",
   "pygments_lexer": "ipython3",
   "version": "3.12.5"
  }
 },
 "nbformat": 4,
 "nbformat_minor": 5
}
